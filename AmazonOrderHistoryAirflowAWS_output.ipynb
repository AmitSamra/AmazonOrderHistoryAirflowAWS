{
 "cells": [
  {
   "cell_type": "code",
   "execution_count": 1,
   "metadata": {},
   "outputs": [],
   "source": [
    "import numpy as np\n",
    "import pandas as pd\n",
    "import matplotlib.pyplot as plt\n",
    "import matplotlib.ticker as ticker\n",
    "import matplotlib.markers as markers\n",
    "from datetime import timedelta, datetime\n",
    "import os\n",
    "import sqlalchemy\n",
    "from sqlalchemy import create_engine\n",
    "from dotenv import load_dotenv\n",
    "#pd.set_option('display.max_rows', 1000)"
   ]
  },
  {
   "cell_type": "code",
   "execution_count": 2,
   "metadata": {},
   "outputs": [
    {
     "data": {
      "text/plain": [
       "True"
      ]
     },
     "execution_count": 2,
     "metadata": {},
     "output_type": "execute_result"
    }
   ],
   "source": [
    "dotenv_local_path = './.env'\n",
    "load_dotenv(dotenv_path=dotenv_local_path, verbose=True) "
   ]
  },
  {
   "cell_type": "code",
   "execution_count": 3,
   "metadata": {},
   "outputs": [],
   "source": [
    "%load_ext dotenv\n",
    "%dotenv"
   ]
  },
  {
   "cell_type": "code",
   "execution_count": 4,
   "metadata": {},
   "outputs": [],
   "source": [
    "# Connect to SQL\n",
    "\n",
    "engine = create_engine(\"postgres://\" + os.environ.get(\"AWS_POSTGRES_USER\") + \":\" + os.environ.get(\"AWS_POSTGRES_PASSWORD\") + \"@\" + \"amazon.coqoinqxklrf.us-east-1.rds.amazonaws.com:5432/postgres\")"
   ]
  },
  {
   "cell_type": "code",
   "execution_count": 5,
   "metadata": {
    "scrolled": true
   },
   "outputs": [
    {
     "data": {
      "text/html": [
       "<div>\n",
       "<style scoped>\n",
       "    .dataframe tbody tr th:only-of-type {\n",
       "        vertical-align: middle;\n",
       "    }\n",
       "\n",
       "    .dataframe tbody tr th {\n",
       "        vertical-align: top;\n",
       "    }\n",
       "\n",
       "    .dataframe thead th {\n",
       "        text-align: right;\n",
       "    }\n",
       "</style>\n",
       "<table border=\"1\" class=\"dataframe\">\n",
       "  <thead>\n",
       "    <tr style=\"text-align: right;\">\n",
       "      <th></th>\n",
       "      <th>OrderID</th>\n",
       "      <th>OrderDate</th>\n",
       "      <th>Category</th>\n",
       "      <th>Condition</th>\n",
       "      <th>Seller</th>\n",
       "      <th>ListPricePerUnit</th>\n",
       "      <th>PurchasePricePerUnit</th>\n",
       "      <th>Quantity</th>\n",
       "      <th>ShipDate</th>\n",
       "      <th>Carrier</th>\n",
       "      <th>ItemSubtotal</th>\n",
       "      <th>Tax</th>\n",
       "      <th>ItemTotal</th>\n",
       "      <th>OrderYear</th>\n",
       "      <th>OrderMonth</th>\n",
       "      <th>OrderDay</th>\n",
       "      <th>OrderDayIndex</th>\n",
       "      <th>OrderDayName</th>\n",
       "    </tr>\n",
       "  </thead>\n",
       "  <tbody>\n",
       "    <tr>\n",
       "      <th>0</th>\n",
       "      <td>1</td>\n",
       "      <td>2008-02-19</td>\n",
       "      <td>BOOKS</td>\n",
       "      <td>unknown</td>\n",
       "      <td>Amazon</td>\n",
       "      <td>29.99</td>\n",
       "      <td>19.79</td>\n",
       "      <td>1</td>\n",
       "      <td>2008-02-25</td>\n",
       "      <td>USPS</td>\n",
       "      <td>19.79</td>\n",
       "      <td>0.0</td>\n",
       "      <td>19.79</td>\n",
       "      <td>2008</td>\n",
       "      <td>2</td>\n",
       "      <td>19</td>\n",
       "      <td>1</td>\n",
       "      <td>Tuesday</td>\n",
       "    </tr>\n",
       "    <tr>\n",
       "      <th>1</th>\n",
       "      <td>2</td>\n",
       "      <td>2008-02-19</td>\n",
       "      <td>BOOKS</td>\n",
       "      <td>unknown</td>\n",
       "      <td>Amazon</td>\n",
       "      <td>27.95</td>\n",
       "      <td>18.45</td>\n",
       "      <td>1</td>\n",
       "      <td>2008-02-25</td>\n",
       "      <td>USPS</td>\n",
       "      <td>18.45</td>\n",
       "      <td>0.0</td>\n",
       "      <td>18.45</td>\n",
       "      <td>2008</td>\n",
       "      <td>2</td>\n",
       "      <td>19</td>\n",
       "      <td>1</td>\n",
       "      <td>Tuesday</td>\n",
       "    </tr>\n",
       "    <tr>\n",
       "      <th>2</th>\n",
       "      <td>3</td>\n",
       "      <td>2008-06-03</td>\n",
       "      <td>BOOKS</td>\n",
       "      <td>unknown</td>\n",
       "      <td>Amazon</td>\n",
       "      <td>34.99</td>\n",
       "      <td>23.09</td>\n",
       "      <td>1</td>\n",
       "      <td>2008-06-04</td>\n",
       "      <td>UPS</td>\n",
       "      <td>23.09</td>\n",
       "      <td>0.0</td>\n",
       "      <td>23.09</td>\n",
       "      <td>2008</td>\n",
       "      <td>6</td>\n",
       "      <td>3</td>\n",
       "      <td>1</td>\n",
       "      <td>Tuesday</td>\n",
       "    </tr>\n",
       "    <tr>\n",
       "      <th>3</th>\n",
       "      <td>4</td>\n",
       "      <td>2008-11-06</td>\n",
       "      <td>HEALTH_BEAUTY</td>\n",
       "      <td>unknown</td>\n",
       "      <td>ThirdParty</td>\n",
       "      <td>6.99</td>\n",
       "      <td>9.39</td>\n",
       "      <td>1</td>\n",
       "      <td>2008-11-07</td>\n",
       "      <td>USPS</td>\n",
       "      <td>9.39</td>\n",
       "      <td>0.0</td>\n",
       "      <td>9.39</td>\n",
       "      <td>2008</td>\n",
       "      <td>11</td>\n",
       "      <td>6</td>\n",
       "      <td>3</td>\n",
       "      <td>Thursday</td>\n",
       "    </tr>\n",
       "    <tr>\n",
       "      <th>4</th>\n",
       "      <td>5</td>\n",
       "      <td>2008-11-06</td>\n",
       "      <td>HEALTH_BEAUTY</td>\n",
       "      <td>unknown</td>\n",
       "      <td>ThirdParty</td>\n",
       "      <td>10.99</td>\n",
       "      <td>7.99</td>\n",
       "      <td>1</td>\n",
       "      <td>2008-11-07</td>\n",
       "      <td>USPS</td>\n",
       "      <td>7.99</td>\n",
       "      <td>0.0</td>\n",
       "      <td>7.99</td>\n",
       "      <td>2008</td>\n",
       "      <td>11</td>\n",
       "      <td>6</td>\n",
       "      <td>3</td>\n",
       "      <td>Thursday</td>\n",
       "    </tr>\n",
       "  </tbody>\n",
       "</table>\n",
       "</div>"
      ],
      "text/plain": [
       "   OrderID  OrderDate       Category Condition      Seller  ListPricePerUnit  \\\n",
       "0        1 2008-02-19          BOOKS   unknown      Amazon             29.99   \n",
       "1        2 2008-02-19          BOOKS   unknown      Amazon             27.95   \n",
       "2        3 2008-06-03          BOOKS   unknown      Amazon             34.99   \n",
       "3        4 2008-11-06  HEALTH_BEAUTY   unknown  ThirdParty              6.99   \n",
       "4        5 2008-11-06  HEALTH_BEAUTY   unknown  ThirdParty             10.99   \n",
       "\n",
       "   PurchasePricePerUnit  Quantity   ShipDate Carrier  ItemSubtotal  Tax  \\\n",
       "0                 19.79         1 2008-02-25    USPS         19.79  0.0   \n",
       "1                 18.45         1 2008-02-25    USPS         18.45  0.0   \n",
       "2                 23.09         1 2008-06-04     UPS         23.09  0.0   \n",
       "3                  9.39         1 2008-11-07    USPS          9.39  0.0   \n",
       "4                  7.99         1 2008-11-07    USPS          7.99  0.0   \n",
       "\n",
       "   ItemTotal  OrderYear  OrderMonth  OrderDay  OrderDayIndex OrderDayName  \n",
       "0      19.79       2008           2        19              1      Tuesday  \n",
       "1      18.45       2008           2        19              1      Tuesday  \n",
       "2      23.09       2008           6         3              1      Tuesday  \n",
       "3       9.39       2008          11         6              3     Thursday  \n",
       "4       7.99       2008          11         6              3     Thursday  "
      ]
     },
     "execution_count": 5,
     "metadata": {},
     "output_type": "execute_result"
    }
   ],
   "source": [
    "# Create df from SQL\n",
    "\n",
    "df = pd.read_sql(\"SELECT * FROM amazon.purchases_aws\", con=engine, parse_dates = ['OrderDate', 'ShipDate'])\n",
    "df.head()"
   ]
  },
  {
   "cell_type": "code",
   "execution_count": 6,
   "metadata": {},
   "outputs": [
    {
     "data": {
      "text/plain": [
       "30357.41"
      ]
     },
     "execution_count": 6,
     "metadata": {},
     "output_type": "execute_result"
    }
   ],
   "source": [
    "# Cumulative total spent from 2008-2019, inclusive\n",
    "\n",
    "TotalSpent = df['ItemTotal'].sum()\n",
    "TotalSpent"
   ]
  },
  {
   "cell_type": "code",
   "execution_count": 7,
   "metadata": {},
   "outputs": [
    {
     "data": {
      "text/plain": [
       "781"
      ]
     },
     "execution_count": 7,
     "metadata": {},
     "output_type": "execute_result"
    }
   ],
   "source": [
    "# Total number of transactions\n",
    "\n",
    "NumTrans = len(df['ItemTotal'])\n",
    "NumTrans"
   ]
  },
  {
   "cell_type": "code",
   "execution_count": 8,
   "metadata": {},
   "outputs": [
    {
     "data": {
      "text/plain": [
       "38.86992317541613"
      ]
     },
     "execution_count": 8,
     "metadata": {},
     "output_type": "execute_result"
    }
   ],
   "source": [
    "# Average spent\n",
    "\n",
    "AvgSpent = TotalSpent/NumTrans\n",
    "AvgSpent"
   ]
  },
  {
   "cell_type": "code",
   "execution_count": 9,
   "metadata": {},
   "outputs": [
    {
     "data": {
      "text/html": [
       "<div>\n",
       "<style scoped>\n",
       "    .dataframe tbody tr th:only-of-type {\n",
       "        vertical-align: middle;\n",
       "    }\n",
       "\n",
       "    .dataframe tbody tr th {\n",
       "        vertical-align: top;\n",
       "    }\n",
       "\n",
       "    .dataframe thead th {\n",
       "        text-align: right;\n",
       "    }\n",
       "</style>\n",
       "<table border=\"1\" class=\"dataframe\">\n",
       "  <thead>\n",
       "    <tr style=\"text-align: right;\">\n",
       "      <th></th>\n",
       "      <th>ItemTotal</th>\n",
       "    </tr>\n",
       "    <tr>\n",
       "      <th>OrderDate</th>\n",
       "      <th></th>\n",
       "    </tr>\n",
       "  </thead>\n",
       "  <tbody>\n",
       "    <tr>\n",
       "      <th>2008-02-19</th>\n",
       "      <td>38.24</td>\n",
       "    </tr>\n",
       "    <tr>\n",
       "      <th>2008-06-03</th>\n",
       "      <td>23.09</td>\n",
       "    </tr>\n",
       "    <tr>\n",
       "      <th>2008-11-06</th>\n",
       "      <td>29.86</td>\n",
       "    </tr>\n",
       "    <tr>\n",
       "      <th>2008-12-13</th>\n",
       "      <td>25.90</td>\n",
       "    </tr>\n",
       "    <tr>\n",
       "      <th>2009-07-18</th>\n",
       "      <td>26.97</td>\n",
       "    </tr>\n",
       "    <tr>\n",
       "      <th>...</th>\n",
       "      <td>...</td>\n",
       "    </tr>\n",
       "    <tr>\n",
       "      <th>2019-12-13</th>\n",
       "      <td>23.45</td>\n",
       "    </tr>\n",
       "    <tr>\n",
       "      <th>2019-12-14</th>\n",
       "      <td>23.33</td>\n",
       "    </tr>\n",
       "    <tr>\n",
       "      <th>2019-12-18</th>\n",
       "      <td>28.77</td>\n",
       "    </tr>\n",
       "    <tr>\n",
       "      <th>2019-12-19</th>\n",
       "      <td>200.00</td>\n",
       "    </tr>\n",
       "    <tr>\n",
       "      <th>2019-12-24</th>\n",
       "      <td>27.18</td>\n",
       "    </tr>\n",
       "  </tbody>\n",
       "</table>\n",
       "<p>445 rows × 1 columns</p>\n",
       "</div>"
      ],
      "text/plain": [
       "            ItemTotal\n",
       "OrderDate            \n",
       "2008-02-19      38.24\n",
       "2008-06-03      23.09\n",
       "2008-11-06      29.86\n",
       "2008-12-13      25.90\n",
       "2009-07-18      26.97\n",
       "...               ...\n",
       "2019-12-13      23.45\n",
       "2019-12-14      23.33\n",
       "2019-12-18      28.77\n",
       "2019-12-19     200.00\n",
       "2019-12-24      27.18\n",
       "\n",
       "[445 rows x 1 columns]"
      ]
     },
     "execution_count": 9,
     "metadata": {},
     "output_type": "execute_result"
    }
   ],
   "source": [
    "# Use groupby to sum purchases by date\n",
    "\n",
    "df_DateTotal = df[['OrderDate', 'ItemTotal']]\n",
    "df_DateTotal = df_DateTotal.groupby('OrderDate')\n",
    "df_DateTotal = df_DateTotal.sum('ItemTotal')\n",
    "df_DateTotal"
   ]
  },
  {
   "cell_type": "code",
   "execution_count": 10,
   "metadata": {
    "scrolled": true
   },
   "outputs": [
    {
     "data": {
      "image/png": "[encoded data removed]",
      "text/plain": [
       "<Figure size 1080x360 with 1 Axes>"
      ]
     },
     "metadata": {
      "needs_background": "light"
     },
     "output_type": "display_data"
    }
   ],
   "source": [
    "# Plot OrderDate & sum of purchases by date\n",
    "\n",
    "fig, ax = plt.subplots(figsize=(15,5))\n",
    "ax.plot(df_DateTotal.index, df_DateTotal.values)\n",
    "ax.set_xlabel('Order Date')\n",
    "ax.set_ylabel('Item Total')\n",
    "ax.set_title('Daily Purchase Amount')\n",
    "plt.show()\n",
    "#ax.figure.savefig('./img/DailyPurchaseAmount.png', bbox_inches='tight', dpi=150)"
   ]
  },
  {
   "cell_type": "code",
   "execution_count": 11,
   "metadata": {},
   "outputs": [
    {
     "data": {
      "text/html": [
       "<div>\n",
       "<style scoped>\n",
       "    .dataframe tbody tr th:only-of-type {\n",
       "        vertical-align: middle;\n",
       "    }\n",
       "\n",
       "    .dataframe tbody tr th {\n",
       "        vertical-align: top;\n",
       "    }\n",
       "\n",
       "    .dataframe thead th {\n",
       "        text-align: right;\n",
       "    }\n",
       "</style>\n",
       "<table border=\"1\" class=\"dataframe\">\n",
       "  <thead>\n",
       "    <tr style=\"text-align: right;\">\n",
       "      <th></th>\n",
       "      <th>Tax</th>\n",
       "    </tr>\n",
       "    <tr>\n",
       "      <th>OrderDate</th>\n",
       "      <th></th>\n",
       "    </tr>\n",
       "  </thead>\n",
       "  <tbody>\n",
       "    <tr>\n",
       "      <th>2008-02-19</th>\n",
       "      <td>0.00</td>\n",
       "    </tr>\n",
       "    <tr>\n",
       "      <th>2008-06-03</th>\n",
       "      <td>0.00</td>\n",
       "    </tr>\n",
       "    <tr>\n",
       "      <th>2008-11-06</th>\n",
       "      <td>0.00</td>\n",
       "    </tr>\n",
       "    <tr>\n",
       "      <th>2008-12-13</th>\n",
       "      <td>0.00</td>\n",
       "    </tr>\n",
       "    <tr>\n",
       "      <th>2009-07-18</th>\n",
       "      <td>0.00</td>\n",
       "    </tr>\n",
       "    <tr>\n",
       "      <th>...</th>\n",
       "      <td>...</td>\n",
       "    </tr>\n",
       "    <tr>\n",
       "      <th>2019-12-13</th>\n",
       "      <td>1.46</td>\n",
       "    </tr>\n",
       "    <tr>\n",
       "      <th>2019-12-14</th>\n",
       "      <td>1.45</td>\n",
       "    </tr>\n",
       "    <tr>\n",
       "      <th>2019-12-18</th>\n",
       "      <td>1.79</td>\n",
       "    </tr>\n",
       "    <tr>\n",
       "      <th>2019-12-19</th>\n",
       "      <td>0.00</td>\n",
       "    </tr>\n",
       "    <tr>\n",
       "      <th>2019-12-24</th>\n",
       "      <td>0.00</td>\n",
       "    </tr>\n",
       "  </tbody>\n",
       "</table>\n",
       "<p>445 rows × 1 columns</p>\n",
       "</div>"
      ],
      "text/plain": [
       "             Tax\n",
       "OrderDate       \n",
       "2008-02-19  0.00\n",
       "2008-06-03  0.00\n",
       "2008-11-06  0.00\n",
       "2008-12-13  0.00\n",
       "2009-07-18  0.00\n",
       "...          ...\n",
       "2019-12-13  1.46\n",
       "2019-12-14  1.45\n",
       "2019-12-18  1.79\n",
       "2019-12-19  0.00\n",
       "2019-12-24  0.00\n",
       "\n",
       "[445 rows x 1 columns]"
      ]
     },
     "execution_count": 11,
     "metadata": {},
     "output_type": "execute_result"
    }
   ],
   "source": [
    "# Use groupby to sum taxes by date\n",
    "\n",
    "df_DateTax = df[['OrderDate', 'Tax']]\n",
    "df_DateTax = df_DateTax.groupby('OrderDate')\n",
    "df_DateTax = df_DateTax.sum('Tax')\n",
    "df_DateTax"
   ]
  },
  {
   "cell_type": "code",
   "execution_count": 12,
   "metadata": {},
   "outputs": [
    {
     "data": {
      "image/png": "[encoded data removed]",
      "text/plain": [
       "<Figure size 432x288 with 2 Axes>"
      ]
     },
     "metadata": {
      "needs_background": "light"
     },
     "output_type": "display_data"
    }
   ],
   "source": [
    "# Plot OrderDate and ItemTotal and OrderDate and PurchasePricePerUnit\n",
    "\n",
    "fig, ax = plt.subplots(1,2, sharey = True)\n",
    "\n",
    "ax[0].plot(df_DateTotal.index, df_DateTotal.values)\n",
    "ax[1].plot(df_DateTax.index, df_DateTax.values, color = 'r')\n",
    "\n",
    "ax[0].set_xlabel('Order Date')\n",
    "ax[0].set_ylabel('$ Total')\n",
    "ax[1].set_xlabel('Order Date')\n",
    "\n",
    "ax[0].set_title('Daily Purchase Amount')\n",
    "ax[1].set_title('Daily Tax Amount')\n",
    "\n",
    "plt.show()"
   ]
  },
  {
   "cell_type": "code",
   "execution_count": 13,
   "metadata": {},
   "outputs": [
    {
     "name": "stdout",
     "output_type": "stream",
     "text": [
      "OrderYear\n",
      "2008     117.09\n",
      "2009     456.85\n",
      "2010    2421.77\n",
      "2011    7176.93\n",
      "2012    3651.85\n",
      "2013    3689.19\n",
      "2014    2075.99\n",
      "2015    1257.52\n",
      "2016     823.48\n",
      "2017    1392.77\n",
      "2018    2689.12\n",
      "2019    4604.85\n",
      "Name: ItemTotal, dtype: float64\n"
     ]
    }
   ],
   "source": [
    "# The previous graphs contained too much data since they were being plotted for each day. \n",
    "# Grouping will allow the information to be more legible.\n",
    "\n",
    "# Purchases by Year \n",
    "\n",
    "df_OrderYear = df[['OrderDate', 'ItemTotal', 'OrderYear']]\n",
    "df_OrderYear = df_OrderYear.sort_values('OrderDate')\n",
    "df_OrderYear = df_OrderYear.groupby('OrderYear')\n",
    "df_OrderYear = df_OrderYear['ItemTotal'].sum()\n",
    "print(df_OrderYear)"
   ]
  },
  {
   "cell_type": "code",
   "execution_count": 14,
   "metadata": {
    "scrolled": true
   },
   "outputs": [
    {
     "data": {
      "image/png": "[encoded data removed]",
      "text/plain": [
       "<Figure size 720x360 with 1 Axes>"
      ]
     },
     "metadata": {
      "needs_background": "light"
     },
     "output_type": "display_data"
    }
   ],
   "source": [
    "fig,ax = plt.subplots(figsize=(10,5))\n",
    "ax.plot(df_OrderYear.index, df_OrderYear.values, marker = 'o')\n",
    "ax.set_xlabel('Year')\n",
    "ax.set_ylabel('$ Amount')\n",
    "ax.set_title('Purchases by Year')\n",
    "plt.xticks([x for x in df_OrderYear.index], rotation=0)\n",
    "\n",
    "ax.yaxis.set_major_formatter(\n",
    "    ticker.FuncFormatter(lambda y,p: format(int(y),','))\n",
    ")\n",
    "\n",
    "plt.show()"
   ]
  },
  {
   "cell_type": "code",
   "execution_count": 15,
   "metadata": {},
   "outputs": [
    {
     "data": {
      "image/png": "[encoded data removed]",
      "text/plain": [
       "<Figure size 720x360 with 1 Axes>"
      ]
     },
     "metadata": {
      "needs_background": "light"
     },
     "output_type": "display_data"
    }
   ],
   "source": [
    "fig,ax = plt.subplots(figsize=(10,5))\n",
    "ax.bar(df_OrderYear.index, df_OrderYear.values, color='darkorange')\n",
    "ax.set_xlabel('Year')\n",
    "ax.set_ylabel('$ Amount')\n",
    "ax.set_title('Purchases by Year')\n",
    "plt.xticks([x for x in df_OrderYear.index], rotation=0)\n",
    "\n",
    "ax.yaxis.set_major_formatter(\n",
    "    ticker.FuncFormatter(lambda y,p: format(int(y),','))\n",
    ")\n",
    "\n",
    "for i,j in zip(df_OrderYear.index,df_OrderYear.values):\n",
    "    ax.annotate(format(int(j), ','), xy=(i,j), va='bottom', ha='center')\n",
    "\n",
    "plt.show()\n",
    "#ax.figure.savefig('./img/PurchasesByYear.png', bbox_inches='tight', dpi=150)"
   ]
  },
  {
   "cell_type": "code",
   "execution_count": 16,
   "metadata": {},
   "outputs": [
    {
     "data": {
      "text/html": [
       "<div>\n",
       "<style scoped>\n",
       "    .dataframe tbody tr th:only-of-type {\n",
       "        vertical-align: middle;\n",
       "    }\n",
       "\n",
       "    .dataframe tbody tr th {\n",
       "        vertical-align: top;\n",
       "    }\n",
       "\n",
       "    .dataframe thead th {\n",
       "        text-align: right;\n",
       "    }\n",
       "</style>\n",
       "<table border=\"1\" class=\"dataframe\">\n",
       "  <thead>\n",
       "    <tr style=\"text-align: right;\">\n",
       "      <th></th>\n",
       "      <th>OrderMonth</th>\n",
       "      <th>ItemTotal</th>\n",
       "      <th>month_name</th>\n",
       "    </tr>\n",
       "  </thead>\n",
       "  <tbody>\n",
       "    <tr>\n",
       "      <th>0</th>\n",
       "      <td>1</td>\n",
       "      <td>1435.93</td>\n",
       "      <td>Jan</td>\n",
       "    </tr>\n",
       "    <tr>\n",
       "      <th>1</th>\n",
       "      <td>2</td>\n",
       "      <td>3082.08</td>\n",
       "      <td>Feb</td>\n",
       "    </tr>\n",
       "    <tr>\n",
       "      <th>2</th>\n",
       "      <td>3</td>\n",
       "      <td>4439.17</td>\n",
       "      <td>Mar</td>\n",
       "    </tr>\n",
       "    <tr>\n",
       "      <th>3</th>\n",
       "      <td>4</td>\n",
       "      <td>1497.22</td>\n",
       "      <td>Apr</td>\n",
       "    </tr>\n",
       "    <tr>\n",
       "      <th>4</th>\n",
       "      <td>5</td>\n",
       "      <td>2198.31</td>\n",
       "      <td>May</td>\n",
       "    </tr>\n",
       "    <tr>\n",
       "      <th>5</th>\n",
       "      <td>6</td>\n",
       "      <td>2042.64</td>\n",
       "      <td>Jun</td>\n",
       "    </tr>\n",
       "    <tr>\n",
       "      <th>6</th>\n",
       "      <td>7</td>\n",
       "      <td>3352.54</td>\n",
       "      <td>Jul</td>\n",
       "    </tr>\n",
       "    <tr>\n",
       "      <th>7</th>\n",
       "      <td>8</td>\n",
       "      <td>3507.65</td>\n",
       "      <td>Aug</td>\n",
       "    </tr>\n",
       "    <tr>\n",
       "      <th>8</th>\n",
       "      <td>9</td>\n",
       "      <td>1887.06</td>\n",
       "      <td>Sep</td>\n",
       "    </tr>\n",
       "    <tr>\n",
       "      <th>9</th>\n",
       "      <td>10</td>\n",
       "      <td>2392.95</td>\n",
       "      <td>Oct</td>\n",
       "    </tr>\n",
       "    <tr>\n",
       "      <th>10</th>\n",
       "      <td>11</td>\n",
       "      <td>2187.99</td>\n",
       "      <td>Nov</td>\n",
       "    </tr>\n",
       "    <tr>\n",
       "      <th>11</th>\n",
       "      <td>12</td>\n",
       "      <td>2333.87</td>\n",
       "      <td>Dec</td>\n",
       "    </tr>\n",
       "  </tbody>\n",
       "</table>\n",
       "</div>"
      ],
      "text/plain": [
       "    OrderMonth  ItemTotal month_name\n",
       "0            1    1435.93        Jan\n",
       "1            2    3082.08        Feb\n",
       "2            3    4439.17        Mar\n",
       "3            4    1497.22        Apr\n",
       "4            5    2198.31        May\n",
       "5            6    2042.64        Jun\n",
       "6            7    3352.54        Jul\n",
       "7            8    3507.65        Aug\n",
       "8            9    1887.06        Sep\n",
       "9           10    2392.95        Oct\n",
       "10          11    2187.99        Nov\n",
       "11          12    2333.87        Dec"
      ]
     },
     "execution_count": 16,
     "metadata": {},
     "output_type": "execute_result"
    }
   ],
   "source": [
    "# Purchases by Month\n",
    "\n",
    "df_OrderMonth = df[['OrderDate', 'ItemTotal', 'OrderMonth']]\n",
    "df_OrderMonth = df_OrderMonth.sort_values('OrderDate')\n",
    "df_OrderMonth = df_OrderMonth.groupby('OrderMonth', as_index=False)\n",
    "df_OrderMonth = df_OrderMonth['ItemTotal'].sum()\n",
    "months = [\"Jan\", \"Feb\", \"Mar\", \"Apr\", \"May\", \"Jun\", \"Jul\", \"Aug\", \"Sep\", \"Oct\", \"Nov\", \"Dec\"]\n",
    "df_OrderMonth['month_name'] = months\n",
    "df_OrderMonth"
   ]
  },
  {
   "cell_type": "code",
   "execution_count": 17,
   "metadata": {},
   "outputs": [
    {
     "data": {
      "image/png": "[encoded data removed]",
      "text/plain": [
       "<Figure size 720x360 with 1 Axes>"
      ]
     },
     "metadata": {
      "needs_background": "light"
     },
     "output_type": "display_data"
    }
   ],
   "source": [
    "fig, ax = plt.subplots(figsize=(10,5))\n",
    "ax.plot(df_OrderMonth.month_name, df_OrderMonth.ItemTotal, marker = 'o')\n",
    "ax.set_xlabel('Month')\n",
    "ax.set_ylabel('$ Amount')\n",
    "ax.set_title('Purchases by Month')\n",
    "plt.xticks([x for x in df_OrderMonth.index])\n",
    "\n",
    "ax.yaxis.set_major_formatter(\n",
    "    ticker.FuncFormatter(lambda y,p: format(int(y),','))\n",
    ")\n",
    "\n",
    "plt.show()"
   ]
  },
  {
   "cell_type": "code",
   "execution_count": 18,
   "metadata": {},
   "outputs": [
    {
     "data": {
      "image/png": "[encoded data removed]",
      "text/plain": [
       "<Figure size 720x360 with 1 Axes>"
      ]
     },
     "metadata": {
      "needs_background": "light"
     },
     "output_type": "display_data"
    }
   ],
   "source": [
    "fig, ax = plt.subplots(figsize=(10,5))\n",
    "ax.bar(df_OrderMonth.month_name, df_OrderMonth.ItemTotal, color='tomato')\n",
    "ax.set_xlabel('Month')\n",
    "ax.set_ylabel('$ Amount')\n",
    "ax.set_title('Purchases by Month')\n",
    "plt.xticks([x for x in df_OrderMonth.index])\n",
    "\n",
    "ax.yaxis.set_major_formatter(\n",
    "    ticker.FuncFormatter(lambda y,p: format(int(y),','))\n",
    ")\n",
    "\n",
    "for i,j in zip(df_OrderMonth.month_name, df_OrderMonth.ItemTotal):\n",
    "    ax.annotate(format(int(j), ','), xy=(i,j), va='bottom', ha='center')\n",
    "\n",
    "plt.show()\n",
    "#ax.figure.savefig('./img/PurchasesByMonth.png', bbox_inches='tight', dpi=150)"
   ]
  },
  {
   "cell_type": "code",
   "execution_count": 19,
   "metadata": {},
   "outputs": [
    {
     "data": {
      "text/html": [
       "<div>\n",
       "<style scoped>\n",
       "    .dataframe tbody tr th:only-of-type {\n",
       "        vertical-align: middle;\n",
       "    }\n",
       "\n",
       "    .dataframe tbody tr th {\n",
       "        vertical-align: top;\n",
       "    }\n",
       "\n",
       "    .dataframe thead th {\n",
       "        text-align: right;\n",
       "    }\n",
       "</style>\n",
       "<table border=\"1\" class=\"dataframe\">\n",
       "  <thead>\n",
       "    <tr style=\"text-align: right;\">\n",
       "      <th></th>\n",
       "      <th>OrderYear</th>\n",
       "      <th>Trans</th>\n",
       "    </tr>\n",
       "  </thead>\n",
       "  <tbody>\n",
       "    <tr>\n",
       "      <th>0</th>\n",
       "      <td>2008</td>\n",
       "      <td>9</td>\n",
       "    </tr>\n",
       "    <tr>\n",
       "      <th>1</th>\n",
       "      <td>2009</td>\n",
       "      <td>15</td>\n",
       "    </tr>\n",
       "    <tr>\n",
       "      <th>2</th>\n",
       "      <td>2010</td>\n",
       "      <td>83</td>\n",
       "    </tr>\n",
       "    <tr>\n",
       "      <th>3</th>\n",
       "      <td>2011</td>\n",
       "      <td>96</td>\n",
       "    </tr>\n",
       "    <tr>\n",
       "      <th>4</th>\n",
       "      <td>2012</td>\n",
       "      <td>96</td>\n",
       "    </tr>\n",
       "    <tr>\n",
       "      <th>5</th>\n",
       "      <td>2013</td>\n",
       "      <td>89</td>\n",
       "    </tr>\n",
       "    <tr>\n",
       "      <th>6</th>\n",
       "      <td>2014</td>\n",
       "      <td>48</td>\n",
       "    </tr>\n",
       "    <tr>\n",
       "      <th>7</th>\n",
       "      <td>2015</td>\n",
       "      <td>59</td>\n",
       "    </tr>\n",
       "    <tr>\n",
       "      <th>8</th>\n",
       "      <td>2016</td>\n",
       "      <td>36</td>\n",
       "    </tr>\n",
       "    <tr>\n",
       "      <th>9</th>\n",
       "      <td>2017</td>\n",
       "      <td>68</td>\n",
       "    </tr>\n",
       "    <tr>\n",
       "      <th>10</th>\n",
       "      <td>2018</td>\n",
       "      <td>69</td>\n",
       "    </tr>\n",
       "    <tr>\n",
       "      <th>11</th>\n",
       "      <td>2019</td>\n",
       "      <td>113</td>\n",
       "    </tr>\n",
       "  </tbody>\n",
       "</table>\n",
       "</div>"
      ],
      "text/plain": [
       "    OrderYear  Trans\n",
       "0        2008      9\n",
       "1        2009     15\n",
       "2        2010     83\n",
       "3        2011     96\n",
       "4        2012     96\n",
       "5        2013     89\n",
       "6        2014     48\n",
       "7        2015     59\n",
       "8        2016     36\n",
       "9        2017     68\n",
       "10       2018     69\n",
       "11       2019    113"
      ]
     },
     "execution_count": 19,
     "metadata": {},
     "output_type": "execute_result"
    }
   ],
   "source": [
    "# Transactions by Year\n",
    "\n",
    "df_TransYear = df[['OrderDate', 'ItemTotal', 'OrderYear']]\n",
    "df_TransYear = df_TransYear.groupby('OrderYear', as_index=False)\n",
    "df_TransYear = df_TransYear['ItemTotal'].size()\n",
    "df_TransYear = df_TransYear.rename(columns={'size':'Trans'})\n",
    "df_TransYear"
   ]
  },
  {
   "cell_type": "code",
   "execution_count": 20,
   "metadata": {},
   "outputs": [
    {
     "data": {
      "image/png": "[encoded data removed]",
      "text/plain": [
       "<Figure size 720x360 with 1 Axes>"
      ]
     },
     "metadata": {
      "needs_background": "light"
     },
     "output_type": "display_data"
    }
   ],
   "source": [
    "fig,ax = plt.subplots(figsize=(10,5))\n",
    "ax.plot(df_TransYear.OrderYear, df_TransYear.Trans, marker = 'o')\n",
    "ax.set_xlabel('Year')\n",
    "ax.set_ylabel('Transactions')\n",
    "ax.set_title('Transactions by Year')\n",
    "plt.xticks([x for x in df_TransYear.OrderYear])\n",
    "\n",
    "plt.show()\n",
    "#ax.figure.savefig('./img/TransactionsByYear.png', bbox_inches='tight', dpi=150)"
   ]
  },
  {
   "cell_type": "code",
   "execution_count": 21,
   "metadata": {},
   "outputs": [
    {
     "data": {
      "text/plain": [
       "Seller\n",
       "False    329\n",
       "True     452\n",
       "dtype: int64"
      ]
     },
     "execution_count": 21,
     "metadata": {},
     "output_type": "execute_result"
    }
   ],
   "source": [
    "# Transactions by Seller\n",
    "\n",
    "df_TransSeller = df[['Seller']]\n",
    "df_TransSeller = df_TransSeller.groupby(df_TransSeller['Seller'] == 'Amazon')\n",
    "df_TransSeller = df_TransSeller.size()\n",
    "df_TransSeller"
   ]
  },
  {
   "cell_type": "code",
   "execution_count": 22,
   "metadata": {},
   "outputs": [
    {
     "data": {
      "image/png": "[encoded data removed]",
      "text/plain": [
       "<Figure size 720x360 with 1 Axes>"
      ]
     },
     "metadata": {},
     "output_type": "display_data"
    }
   ],
   "source": [
    "fig,ax = plt.subplots(figsize=(10,5))\n",
    "ax.pie(df_TransSeller.values, labels = ['Third Party', 'Amazon'], autopct = '%1.1f%%')\n",
    "ax.set_title('Transactions by Seller')\n",
    "ax.axis('equal')\n",
    "plt.show()"
   ]
  },
  {
   "cell_type": "code",
   "execution_count": 23,
   "metadata": {},
   "outputs": [
    {
     "data": {
      "image/png": "[encoded data removed]",
      "text/plain": [
       "<Figure size 720x360 with 1 Axes>"
      ]
     },
     "metadata": {},
     "output_type": "display_data"
    }
   ],
   "source": [
    "fig, ax = plt.subplots(figsize=(10,5))\n",
    "ax.pie(df_TransSeller.values, autopct = '%1.1f%%')\n",
    "ax.legend(\n",
    "    #df_TransSeller.index,\n",
    "    title = 'Seller',\n",
    "    labels = ['Third Party', 'Amazon'],\n",
    "    loc = 'center left',\n",
    "    bbox_to_anchor = (.75,.5,0,0)\n",
    ")\n",
    "ax.set_title('Transactions by Seller')\n",
    "ax.axis('equal')\n",
    "plt.show()\n",
    "#ax.figure.savefig('./img/TransactionsBySeller.png', bbox_inches='tight', dpi=150)"
   ]
  },
  {
   "cell_type": "code",
   "execution_count": 24,
   "metadata": {},
   "outputs": [
    {
     "data": {
      "text/plain": [
       "Seller\n",
       "False     7575.08\n",
       "True     22782.33\n",
       "Name: ItemTotal, dtype: float64"
      ]
     },
     "execution_count": 24,
     "metadata": {},
     "output_type": "execute_result"
    }
   ],
   "source": [
    "# Purchases by Seller\n",
    "\n",
    "df_PurchasesSeller = df[['Seller', 'ItemTotal']]\n",
    "df_PurchasesSeller = df_PurchasesSeller.groupby(df_PurchasesSeller['Seller'] == 'Amazon')\n",
    "df_PurchasesSeller = df_PurchasesSeller['ItemTotal'].sum()\n",
    "df_PurchasesSeller"
   ]
  },
  {
   "cell_type": "code",
   "execution_count": 25,
   "metadata": {},
   "outputs": [
    {
     "data": {
      "image/png": "[encoded data removed]",
      "text/plain": [
       "<Figure size 720x360 with 1 Axes>"
      ]
     },
     "metadata": {},
     "output_type": "display_data"
    }
   ],
   "source": [
    "fig,ax = plt.subplots(figsize=(10,5))\n",
    "ax.pie(df_PurchasesSeller.values, autopct = '%1.1f%%')\n",
    "ax.legend(\n",
    "    #df_PurchasesSeller.index,\n",
    "    title = 'Seller',\n",
    "    labels = ['Third Party', 'Amazon'],\n",
    "    loc = 'center left',\n",
    "    bbox_to_anchor = (.75,.5,0,0)    \n",
    ")\n",
    "ax.set_title('Purchases by Seller')\n",
    "ax.axis('equal')\n",
    "plt.show()\n",
    "#ax.figure.savefig('./img/PurchasesBySeller.png', bbox_inches='tight', dpi=150)"
   ]
  },
  {
   "cell_type": "code",
   "execution_count": 26,
   "metadata": {},
   "outputs": [
    {
     "data": {
      "text/plain": [
       "Category\n",
       "UNKNOWN            2092.30\n",
       "TOOLS               533.80\n",
       "SPORTS_OUTDOOR      831.09\n",
       "OTHER               842.15\n",
       "OFFICE              504.44\n",
       "HOME               2215.82\n",
       "HEALTH_BEAUTY      3059.04\n",
       "GROCERY             481.91\n",
       "GIFT_CARD           638.92\n",
       "ENTERTAINMENT        61.16\n",
       "ELECTRONICS        4208.20\n",
       "COMPUTER          10519.35\n",
       "BOOKS              1519.07\n",
       "APPAREL            2850.16\n",
       "Name: ItemTotal, dtype: float64"
      ]
     },
     "execution_count": 26,
     "metadata": {},
     "output_type": "execute_result"
    }
   ],
   "source": [
    "# Purchases by Category\n",
    "# Note: it is necessary to sort by reverse in the df so the plot can be arranged alphabetically\n",
    "# from top to bottom\n",
    "\n",
    "df_CategoryTotal = df[['Category', 'ItemTotal']]\n",
    "df_CategoryTotal = df_CategoryTotal.groupby('Category')\n",
    "df_CategoryTotal = df_CategoryTotal['ItemTotal'].sum()\n",
    "df_CategoryTotal = df_CategoryTotal.sort_index(ascending = False)\n",
    "df_CategoryTotal"
   ]
  },
  {
   "cell_type": "code",
   "execution_count": 27,
   "metadata": {},
   "outputs": [
    {
     "data": {
      "image/png": "[encoded data removed]",
      "text/plain": [
       "<Figure size 1080x360 with 1 Axes>"
      ]
     },
     "metadata": {
      "needs_background": "light"
     },
     "output_type": "display_data"
    }
   ],
   "source": [
    "# Plot purchases by category\n",
    "\n",
    "fig,ax = plt.subplots(figsize=(15,5))\n",
    "ax.barh(df_CategoryTotal.index, df_CategoryTotal.values)\n",
    "ax.set_xlabel('$ Amount')\n",
    "ax.set_ylabel('Category')\n",
    "ax.set_title('Purchases by Category')\n",
    "\n",
    "ax.xaxis.set_major_formatter(\n",
    "    ticker.FuncFormatter(lambda x,p: format(int(x),','))\n",
    ")\n",
    "\n",
    "for i,j in zip(df_CategoryTotal.values, df_CategoryTotal.index):\n",
    "    ax.annotate(format(int(i), ','), xy=(i,j), va='center', ha='left')\n",
    "\n",
    "plt.show()\n",
    "#ax.figure.savefig('./img/PurchasesByCategory.png', bbox_inches='tight', dpi=150)"
   ]
  },
  {
   "cell_type": "code",
   "execution_count": 28,
   "metadata": {},
   "outputs": [
    {
     "data": {
      "text/html": [
       "<div>\n",
       "<style scoped>\n",
       "    .dataframe tbody tr th:only-of-type {\n",
       "        vertical-align: middle;\n",
       "    }\n",
       "\n",
       "    .dataframe tbody tr th {\n",
       "        vertical-align: top;\n",
       "    }\n",
       "\n",
       "    .dataframe thead th {\n",
       "        text-align: right;\n",
       "    }\n",
       "</style>\n",
       "<table border=\"1\" class=\"dataframe\">\n",
       "  <thead>\n",
       "    <tr style=\"text-align: right;\">\n",
       "      <th></th>\n",
       "      <th>Category</th>\n",
       "      <th>ItemTotal</th>\n",
       "      <th>Share</th>\n",
       "    </tr>\n",
       "  </thead>\n",
       "  <tbody>\n",
       "    <tr>\n",
       "      <th>13</th>\n",
       "      <td>UNKNOWN</td>\n",
       "      <td>2092.30</td>\n",
       "      <td>6.892222</td>\n",
       "    </tr>\n",
       "    <tr>\n",
       "      <th>12</th>\n",
       "      <td>TOOLS</td>\n",
       "      <td>533.80</td>\n",
       "      <td>1.758385</td>\n",
       "    </tr>\n",
       "    <tr>\n",
       "      <th>11</th>\n",
       "      <td>SPORTS_OUTDOOR</td>\n",
       "      <td>831.09</td>\n",
       "      <td>2.737684</td>\n",
       "    </tr>\n",
       "    <tr>\n",
       "      <th>10</th>\n",
       "      <td>OTHER</td>\n",
       "      <td>842.15</td>\n",
       "      <td>2.774117</td>\n",
       "    </tr>\n",
       "    <tr>\n",
       "      <th>9</th>\n",
       "      <td>OFFICE</td>\n",
       "      <td>504.44</td>\n",
       "      <td>1.661670</td>\n",
       "    </tr>\n",
       "    <tr>\n",
       "      <th>8</th>\n",
       "      <td>HOME</td>\n",
       "      <td>2215.82</td>\n",
       "      <td>7.299108</td>\n",
       "    </tr>\n",
       "    <tr>\n",
       "      <th>7</th>\n",
       "      <td>HEALTH_BEAUTY</td>\n",
       "      <td>3059.04</td>\n",
       "      <td>10.076749</td>\n",
       "    </tr>\n",
       "    <tr>\n",
       "      <th>6</th>\n",
       "      <td>GROCERY</td>\n",
       "      <td>481.91</td>\n",
       "      <td>1.587454</td>\n",
       "    </tr>\n",
       "    <tr>\n",
       "      <th>5</th>\n",
       "      <td>GIFT_CARD</td>\n",
       "      <td>638.92</td>\n",
       "      <td>2.104659</td>\n",
       "    </tr>\n",
       "    <tr>\n",
       "      <th>4</th>\n",
       "      <td>ENTERTAINMENT</td>\n",
       "      <td>61.16</td>\n",
       "      <td>0.201466</td>\n",
       "    </tr>\n",
       "    <tr>\n",
       "      <th>3</th>\n",
       "      <td>ELECTRONICS</td>\n",
       "      <td>4208.20</td>\n",
       "      <td>13.862184</td>\n",
       "    </tr>\n",
       "    <tr>\n",
       "      <th>2</th>\n",
       "      <td>COMPUTER</td>\n",
       "      <td>10519.35</td>\n",
       "      <td>34.651672</td>\n",
       "    </tr>\n",
       "    <tr>\n",
       "      <th>1</th>\n",
       "      <td>BOOKS</td>\n",
       "      <td>1519.07</td>\n",
       "      <td>5.003951</td>\n",
       "    </tr>\n",
       "    <tr>\n",
       "      <th>0</th>\n",
       "      <td>APPAREL</td>\n",
       "      <td>2850.16</td>\n",
       "      <td>9.388680</td>\n",
       "    </tr>\n",
       "  </tbody>\n",
       "</table>\n",
       "</div>"
      ],
      "text/plain": [
       "          Category  ItemTotal      Share\n",
       "13         UNKNOWN    2092.30   6.892222\n",
       "12           TOOLS     533.80   1.758385\n",
       "11  SPORTS_OUTDOOR     831.09   2.737684\n",
       "10           OTHER     842.15   2.774117\n",
       "9           OFFICE     504.44   1.661670\n",
       "8             HOME    2215.82   7.299108\n",
       "7    HEALTH_BEAUTY    3059.04  10.076749\n",
       "6          GROCERY     481.91   1.587454\n",
       "5        GIFT_CARD     638.92   2.104659\n",
       "4    ENTERTAINMENT      61.16   0.201466\n",
       "3      ELECTRONICS    4208.20  13.862184\n",
       "2         COMPUTER   10519.35  34.651672\n",
       "1            BOOKS    1519.07   5.003951\n",
       "0          APPAREL    2850.16   9.388680"
      ]
     },
     "execution_count": 28,
     "metadata": {},
     "output_type": "execute_result"
    }
   ],
   "source": [
    "# Purchases by category share\n",
    "\n",
    "df_CategoryShare = df[['Category', 'ItemTotal']]\n",
    "df_CategoryShare = df_CategoryShare.groupby('Category', as_index = False)\n",
    "df_CategoryShare = df_CategoryShare['ItemTotal'].sum()\n",
    "df_CategoryShare['Share'] = df_CategoryShare['ItemTotal'].div(df_CategoryShare['ItemTotal'].sum())*100\n",
    "df_CategoryShare = df_CategoryShare.sort_values('Category', ascending = False)\n",
    "df_CategoryShare"
   ]
  },
  {
   "cell_type": "code",
   "execution_count": 29,
   "metadata": {},
   "outputs": [
    {
     "data": {
      "image/png": "[encoded data removed]",
      "text/plain": [
       "<Figure size 720x360 with 1 Axes>"
      ]
     },
     "metadata": {
      "needs_background": "light"
     },
     "output_type": "display_data"
    }
   ],
   "source": [
    "# Plot purchases by category share\n",
    "\n",
    "fig,ax = plt.subplots(figsize=(10,5))\n",
    "ax.barh(df_CategoryShare['Category'],df_CategoryShare['Share'], color='tomato')\n",
    "ax.set_xlabel('Percent')\n",
    "ax.set_ylabel('Category')\n",
    "ax.set_title('Purchases by Category Share')\n",
    "\n",
    "for i,j in zip(df_CategoryShare['Share'], df_CategoryShare['Category']):\n",
    "    ax.annotate(format(str(int(i))+'%', ''), xy=(i,j), va='center', ha='left')\n",
    "    \n",
    "ax.xaxis.set_major_formatter(\n",
    "    ticker.FuncFormatter(lambda x,p: format(str(int(x))+'%',''))\n",
    ")\n",
    "\n",
    "plt.show()\n",
    "#ax.figure.savefig('./img/PurchasesByCategoryShare.png', bbox_inches='tight', dpi=150)"
   ]
  },
  {
   "cell_type": "code",
   "execution_count": 30,
   "metadata": {},
   "outputs": [
    {
     "data": {
      "text/html": [
       "<div>\n",
       "<style scoped>\n",
       "    .dataframe tbody tr th:only-of-type {\n",
       "        vertical-align: middle;\n",
       "    }\n",
       "\n",
       "    .dataframe tbody tr th {\n",
       "        vertical-align: top;\n",
       "    }\n",
       "\n",
       "    .dataframe thead th {\n",
       "        text-align: right;\n",
       "    }\n",
       "</style>\n",
       "<table border=\"1\" class=\"dataframe\">\n",
       "  <thead>\n",
       "    <tr style=\"text-align: right;\">\n",
       "      <th></th>\n",
       "      <th>OrderDayName</th>\n",
       "      <th>OrderDayIndex</th>\n",
       "      <th>ItemTotal</th>\n",
       "    </tr>\n",
       "  </thead>\n",
       "  <tbody>\n",
       "    <tr>\n",
       "      <th>1</th>\n",
       "      <td>Monday</td>\n",
       "      <td>0</td>\n",
       "      <td>6787.06</td>\n",
       "    </tr>\n",
       "    <tr>\n",
       "      <th>5</th>\n",
       "      <td>Tuesday</td>\n",
       "      <td>1</td>\n",
       "      <td>4378.23</td>\n",
       "    </tr>\n",
       "    <tr>\n",
       "      <th>6</th>\n",
       "      <td>Wednesday</td>\n",
       "      <td>2</td>\n",
       "      <td>3476.16</td>\n",
       "    </tr>\n",
       "    <tr>\n",
       "      <th>4</th>\n",
       "      <td>Thursday</td>\n",
       "      <td>3</td>\n",
       "      <td>4260.84</td>\n",
       "    </tr>\n",
       "    <tr>\n",
       "      <th>0</th>\n",
       "      <td>Friday</td>\n",
       "      <td>4</td>\n",
       "      <td>4073.42</td>\n",
       "    </tr>\n",
       "    <tr>\n",
       "      <th>2</th>\n",
       "      <td>Saturday</td>\n",
       "      <td>5</td>\n",
       "      <td>2965.26</td>\n",
       "    </tr>\n",
       "    <tr>\n",
       "      <th>3</th>\n",
       "      <td>Sunday</td>\n",
       "      <td>6</td>\n",
       "      <td>4416.44</td>\n",
       "    </tr>\n",
       "  </tbody>\n",
       "</table>\n",
       "</div>"
      ],
      "text/plain": [
       "  OrderDayName  OrderDayIndex  ItemTotal\n",
       "1       Monday              0    6787.06\n",
       "5      Tuesday              1    4378.23\n",
       "6    Wednesday              2    3476.16\n",
       "4     Thursday              3    4260.84\n",
       "0       Friday              4    4073.42\n",
       "2     Saturday              5    2965.26\n",
       "3       Sunday              6    4416.44"
      ]
     },
     "execution_count": 30,
     "metadata": {},
     "output_type": "execute_result"
    }
   ],
   "source": [
    "# Purchases by day of week\n",
    "\n",
    "df_DayPur = df[['OrderDayIndex','OrderDayName','ItemTotal']]\n",
    "df_DayPur = df_DayPur.groupby(['OrderDayName','OrderDayIndex'], as_index = False)\n",
    "df_DayPur = df_DayPur['ItemTotal'].sum()\n",
    "df_DayPur = df_DayPur.sort_values('OrderDayIndex')\n",
    "df_DayPur"
   ]
  },
  {
   "cell_type": "code",
   "execution_count": 31,
   "metadata": {},
   "outputs": [
    {
     "data": {
      "image/png": "[encoded data removed]",
      "text/plain": [
       "<Figure size 720x360 with 1 Axes>"
      ]
     },
     "metadata": {
      "needs_background": "light"
     },
     "output_type": "display_data"
    }
   ],
   "source": [
    "# Plot purchases by day of week\n",
    "\n",
    "fig,ax = plt.subplots(figsize=(10,5))\n",
    "ax.bar(df_DayPur['OrderDayName'],df_DayPur['ItemTotal'], color='skyblue')\n",
    "ax.set_xlabel('Day')\n",
    "ax.set_ylabel('$ Amount')\n",
    "ax.set_title('Purchases by Day')\n",
    "plt.xticks(rotation = 0)\n",
    "\n",
    "ax.yaxis.set_major_formatter(\n",
    "    ticker.FuncFormatter(lambda y,p: format(int(y),','))\n",
    ")\n",
    "\n",
    "for i,j in zip(df_DayPur['OrderDayName'],df_DayPur['ItemTotal']):\n",
    "    ax.annotate(format(int(j), ','), xy=(i,j), va='bottom', ha='center')\n",
    "\n",
    "plt.show()\n",
    "#ax.figure.savefig('./img/PurchasesByDay.png', bbox_inches='tight', dpi=150)"
   ]
  },
  {
   "cell_type": "code",
   "execution_count": 32,
   "metadata": {},
   "outputs": [
    {
     "data": {
      "text/html": [
       "<div>\n",
       "<style scoped>\n",
       "    .dataframe tbody tr th:only-of-type {\n",
       "        vertical-align: middle;\n",
       "    }\n",
       "\n",
       "    .dataframe tbody tr th {\n",
       "        vertical-align: top;\n",
       "    }\n",
       "\n",
       "    .dataframe thead th {\n",
       "        text-align: right;\n",
       "    }\n",
       "</style>\n",
       "<table border=\"1\" class=\"dataframe\">\n",
       "  <thead>\n",
       "    <tr style=\"text-align: right;\">\n",
       "      <th></th>\n",
       "      <th>OrderYear</th>\n",
       "      <th>ItemTotal</th>\n",
       "    </tr>\n",
       "  </thead>\n",
       "  <tbody>\n",
       "    <tr>\n",
       "      <th>0</th>\n",
       "      <td>2008</td>\n",
       "      <td>117.09</td>\n",
       "    </tr>\n",
       "    <tr>\n",
       "      <th>1</th>\n",
       "      <td>2009</td>\n",
       "      <td>456.85</td>\n",
       "    </tr>\n",
       "    <tr>\n",
       "      <th>2</th>\n",
       "      <td>2010</td>\n",
       "      <td>2421.77</td>\n",
       "    </tr>\n",
       "    <tr>\n",
       "      <th>3</th>\n",
       "      <td>2011</td>\n",
       "      <td>7176.93</td>\n",
       "    </tr>\n",
       "    <tr>\n",
       "      <th>4</th>\n",
       "      <td>2012</td>\n",
       "      <td>3651.85</td>\n",
       "    </tr>\n",
       "    <tr>\n",
       "      <th>5</th>\n",
       "      <td>2013</td>\n",
       "      <td>3689.19</td>\n",
       "    </tr>\n",
       "    <tr>\n",
       "      <th>6</th>\n",
       "      <td>2014</td>\n",
       "      <td>2075.99</td>\n",
       "    </tr>\n",
       "    <tr>\n",
       "      <th>7</th>\n",
       "      <td>2015</td>\n",
       "      <td>1257.52</td>\n",
       "    </tr>\n",
       "    <tr>\n",
       "      <th>8</th>\n",
       "      <td>2016</td>\n",
       "      <td>823.48</td>\n",
       "    </tr>\n",
       "    <tr>\n",
       "      <th>9</th>\n",
       "      <td>2017</td>\n",
       "      <td>1392.77</td>\n",
       "    </tr>\n",
       "    <tr>\n",
       "      <th>10</th>\n",
       "      <td>2018</td>\n",
       "      <td>2689.12</td>\n",
       "    </tr>\n",
       "    <tr>\n",
       "      <th>11</th>\n",
       "      <td>2019</td>\n",
       "      <td>4604.85</td>\n",
       "    </tr>\n",
       "  </tbody>\n",
       "</table>\n",
       "</div>"
      ],
      "text/plain": [
       "    OrderYear  ItemTotal\n",
       "0        2008     117.09\n",
       "1        2009     456.85\n",
       "2        2010    2421.77\n",
       "3        2011    7176.93\n",
       "4        2012    3651.85\n",
       "5        2013    3689.19\n",
       "6        2014    2075.99\n",
       "7        2015    1257.52\n",
       "8        2016     823.48\n",
       "9        2017    1392.77\n",
       "10       2018    2689.12\n",
       "11       2019    4604.85"
      ]
     },
     "execution_count": 32,
     "metadata": {},
     "output_type": "execute_result"
    }
   ],
   "source": [
    "# Avg transaction value by year\n",
    "\n",
    "df_YearAvgTrans = df[['OrderYear','ItemTotal']]\n",
    "df_YearAvgTrans = df_YearAvgTrans.groupby(['OrderYear'], as_index = False)\n",
    "df_YearAvgTrans = df_YearAvgTrans['ItemTotal'].sum()\n",
    "df_YearAvgTrans"
   ]
  },
  {
   "cell_type": "code",
   "execution_count": 33,
   "metadata": {},
   "outputs": [
    {
     "data": {
      "text/plain": [
       "OrderYear\n",
       "2008      9\n",
       "2009     15\n",
       "2010     83\n",
       "2011     96\n",
       "2012     96\n",
       "2013     89\n",
       "2014     48\n",
       "2015     59\n",
       "2016     36\n",
       "2017     68\n",
       "2018     69\n",
       "2019    113\n",
       "dtype: int64"
      ]
     },
     "execution_count": 33,
     "metadata": {},
     "output_type": "execute_result"
    }
   ],
   "source": [
    "df_NumTransYear = df[['OrderYear', 'OrderID']].groupby('OrderYear').size()\n",
    "df_NumTransYear"
   ]
  },
  {
   "cell_type": "code",
   "execution_count": 34,
   "metadata": {},
   "outputs": [
    {
     "data": {
      "text/html": [
       "<div>\n",
       "<style scoped>\n",
       "    .dataframe tbody tr th:only-of-type {\n",
       "        vertical-align: middle;\n",
       "    }\n",
       "\n",
       "    .dataframe tbody tr th {\n",
       "        vertical-align: top;\n",
       "    }\n",
       "\n",
       "    .dataframe thead th {\n",
       "        text-align: right;\n",
       "    }\n",
       "</style>\n",
       "<table border=\"1\" class=\"dataframe\">\n",
       "  <thead>\n",
       "    <tr style=\"text-align: right;\">\n",
       "      <th></th>\n",
       "      <th>OrderYear</th>\n",
       "      <th>ItemTotal</th>\n",
       "      <th>Trans</th>\n",
       "    </tr>\n",
       "  </thead>\n",
       "  <tbody>\n",
       "    <tr>\n",
       "      <th>0</th>\n",
       "      <td>2008</td>\n",
       "      <td>117.09</td>\n",
       "      <td>9</td>\n",
       "    </tr>\n",
       "    <tr>\n",
       "      <th>1</th>\n",
       "      <td>2009</td>\n",
       "      <td>456.85</td>\n",
       "      <td>15</td>\n",
       "    </tr>\n",
       "    <tr>\n",
       "      <th>2</th>\n",
       "      <td>2010</td>\n",
       "      <td>2421.77</td>\n",
       "      <td>83</td>\n",
       "    </tr>\n",
       "    <tr>\n",
       "      <th>3</th>\n",
       "      <td>2011</td>\n",
       "      <td>7176.93</td>\n",
       "      <td>96</td>\n",
       "    </tr>\n",
       "    <tr>\n",
       "      <th>4</th>\n",
       "      <td>2012</td>\n",
       "      <td>3651.85</td>\n",
       "      <td>96</td>\n",
       "    </tr>\n",
       "    <tr>\n",
       "      <th>5</th>\n",
       "      <td>2013</td>\n",
       "      <td>3689.19</td>\n",
       "      <td>89</td>\n",
       "    </tr>\n",
       "    <tr>\n",
       "      <th>6</th>\n",
       "      <td>2014</td>\n",
       "      <td>2075.99</td>\n",
       "      <td>48</td>\n",
       "    </tr>\n",
       "    <tr>\n",
       "      <th>7</th>\n",
       "      <td>2015</td>\n",
       "      <td>1257.52</td>\n",
       "      <td>59</td>\n",
       "    </tr>\n",
       "    <tr>\n",
       "      <th>8</th>\n",
       "      <td>2016</td>\n",
       "      <td>823.48</td>\n",
       "      <td>36</td>\n",
       "    </tr>\n",
       "    <tr>\n",
       "      <th>9</th>\n",
       "      <td>2017</td>\n",
       "      <td>1392.77</td>\n",
       "      <td>68</td>\n",
       "    </tr>\n",
       "    <tr>\n",
       "      <th>10</th>\n",
       "      <td>2018</td>\n",
       "      <td>2689.12</td>\n",
       "      <td>69</td>\n",
       "    </tr>\n",
       "    <tr>\n",
       "      <th>11</th>\n",
       "      <td>2019</td>\n",
       "      <td>4604.85</td>\n",
       "      <td>113</td>\n",
       "    </tr>\n",
       "  </tbody>\n",
       "</table>\n",
       "</div>"
      ],
      "text/plain": [
       "    OrderYear  ItemTotal  Trans\n",
       "0        2008     117.09      9\n",
       "1        2009     456.85     15\n",
       "2        2010    2421.77     83\n",
       "3        2011    7176.93     96\n",
       "4        2012    3651.85     96\n",
       "5        2013    3689.19     89\n",
       "6        2014    2075.99     48\n",
       "7        2015    1257.52     59\n",
       "8        2016     823.48     36\n",
       "9        2017    1392.77     68\n",
       "10       2018    2689.12     69\n",
       "11       2019    4604.85    113"
      ]
     },
     "execution_count": 34,
     "metadata": {},
     "output_type": "execute_result"
    }
   ],
   "source": [
    "df_YearAvgTrans['Trans'] = df_NumTransYear.values\n",
    "df_YearAvgTrans"
   ]
  },
  {
   "cell_type": "code",
   "execution_count": 35,
   "metadata": {},
   "outputs": [
    {
     "data": {
      "text/html": [
       "<div>\n",
       "<style scoped>\n",
       "    .dataframe tbody tr th:only-of-type {\n",
       "        vertical-align: middle;\n",
       "    }\n",
       "\n",
       "    .dataframe tbody tr th {\n",
       "        vertical-align: top;\n",
       "    }\n",
       "\n",
       "    .dataframe thead th {\n",
       "        text-align: right;\n",
       "    }\n",
       "</style>\n",
       "<table border=\"1\" class=\"dataframe\">\n",
       "  <thead>\n",
       "    <tr style=\"text-align: right;\">\n",
       "      <th></th>\n",
       "      <th>OrderYear</th>\n",
       "      <th>ItemTotal</th>\n",
       "      <th>Trans</th>\n",
       "      <th>AvgPerTrans</th>\n",
       "    </tr>\n",
       "  </thead>\n",
       "  <tbody>\n",
       "    <tr>\n",
       "      <th>0</th>\n",
       "      <td>2008</td>\n",
       "      <td>117.09</td>\n",
       "      <td>9</td>\n",
       "      <td>13.010000</td>\n",
       "    </tr>\n",
       "    <tr>\n",
       "      <th>1</th>\n",
       "      <td>2009</td>\n",
       "      <td>456.85</td>\n",
       "      <td>15</td>\n",
       "      <td>30.456667</td>\n",
       "    </tr>\n",
       "    <tr>\n",
       "      <th>2</th>\n",
       "      <td>2010</td>\n",
       "      <td>2421.77</td>\n",
       "      <td>83</td>\n",
       "      <td>29.177952</td>\n",
       "    </tr>\n",
       "    <tr>\n",
       "      <th>3</th>\n",
       "      <td>2011</td>\n",
       "      <td>7176.93</td>\n",
       "      <td>96</td>\n",
       "      <td>74.759687</td>\n",
       "    </tr>\n",
       "    <tr>\n",
       "      <th>4</th>\n",
       "      <td>2012</td>\n",
       "      <td>3651.85</td>\n",
       "      <td>96</td>\n",
       "      <td>38.040104</td>\n",
       "    </tr>\n",
       "    <tr>\n",
       "      <th>5</th>\n",
       "      <td>2013</td>\n",
       "      <td>3689.19</td>\n",
       "      <td>89</td>\n",
       "      <td>41.451573</td>\n",
       "    </tr>\n",
       "    <tr>\n",
       "      <th>6</th>\n",
       "      <td>2014</td>\n",
       "      <td>2075.99</td>\n",
       "      <td>48</td>\n",
       "      <td>43.249792</td>\n",
       "    </tr>\n",
       "    <tr>\n",
       "      <th>7</th>\n",
       "      <td>2015</td>\n",
       "      <td>1257.52</td>\n",
       "      <td>59</td>\n",
       "      <td>21.313898</td>\n",
       "    </tr>\n",
       "    <tr>\n",
       "      <th>8</th>\n",
       "      <td>2016</td>\n",
       "      <td>823.48</td>\n",
       "      <td>36</td>\n",
       "      <td>22.874444</td>\n",
       "    </tr>\n",
       "    <tr>\n",
       "      <th>9</th>\n",
       "      <td>2017</td>\n",
       "      <td>1392.77</td>\n",
       "      <td>68</td>\n",
       "      <td>20.481912</td>\n",
       "    </tr>\n",
       "    <tr>\n",
       "      <th>10</th>\n",
       "      <td>2018</td>\n",
       "      <td>2689.12</td>\n",
       "      <td>69</td>\n",
       "      <td>38.972754</td>\n",
       "    </tr>\n",
       "    <tr>\n",
       "      <th>11</th>\n",
       "      <td>2019</td>\n",
       "      <td>4604.85</td>\n",
       "      <td>113</td>\n",
       "      <td>40.750885</td>\n",
       "    </tr>\n",
       "  </tbody>\n",
       "</table>\n",
       "</div>"
      ],
      "text/plain": [
       "    OrderYear  ItemTotal  Trans  AvgPerTrans\n",
       "0        2008     117.09      9    13.010000\n",
       "1        2009     456.85     15    30.456667\n",
       "2        2010    2421.77     83    29.177952\n",
       "3        2011    7176.93     96    74.759687\n",
       "4        2012    3651.85     96    38.040104\n",
       "5        2013    3689.19     89    41.451573\n",
       "6        2014    2075.99     48    43.249792\n",
       "7        2015    1257.52     59    21.313898\n",
       "8        2016     823.48     36    22.874444\n",
       "9        2017    1392.77     68    20.481912\n",
       "10       2018    2689.12     69    38.972754\n",
       "11       2019    4604.85    113    40.750885"
      ]
     },
     "execution_count": 35,
     "metadata": {},
     "output_type": "execute_result"
    }
   ],
   "source": [
    "df_YearAvgTrans['AvgPerTrans'] = df_YearAvgTrans['ItemTotal'].div(df_YearAvgTrans['Trans'])\n",
    "df_YearAvgTrans"
   ]
  },
  {
   "cell_type": "code",
   "execution_count": 36,
   "metadata": {},
   "outputs": [],
   "source": [
    "# All of the above can be done more quickly using the following:\n",
    "\n",
    "#df_YearAvgTrans = df[['OrderYear','ItemTotal']]\n",
    "#df_YearAvgTrans = df_YearAvgTrans.groupby(['OrderYear'], as_index = False)['ItemTotal'].sum()\n",
    "\n",
    "#df_YearOrders = df[['OrderYear','ItemTotal']].groupby('OrderYear')['ItemTotal'].size()\n",
    "#df_YearAvgTrans['Trans'] = df_YearOrders.values\n",
    "\n",
    "#df_YearAvgTrans['AvgTrans'] = df_YearAvgTrans['ItemTotal'].div(df_YearAvgTrans['Trans'])\n",
    "#df_YearAvgTrans"
   ]
  },
  {
   "cell_type": "code",
   "execution_count": 37,
   "metadata": {},
   "outputs": [
    {
     "data": {
      "image/png": "[encoded data removed]",
      "text/plain": [
       "<Figure size 720x360 with 1 Axes>"
      ]
     },
     "metadata": {
      "needs_background": "light"
     },
     "output_type": "display_data"
    }
   ],
   "source": [
    "# Plot average per transaction by year\n",
    "\n",
    "fig, ax = plt.subplots(figsize=(10,5))\n",
    "ax.bar(df_YearAvgTrans['OrderYear'],df_YearAvgTrans['AvgPerTrans'], color='mediumaquamarine')\n",
    "ax.set_xlabel('Year')\n",
    "ax.set_ylabel('$ Amount')\n",
    "ax.set_title('Average per Transaction per Year')\n",
    "plt.xticks([x for x in df_YearAvgTrans['OrderYear']], rotation = 0)\n",
    "\n",
    "ax.yaxis.set_major_formatter(\n",
    "    ticker.FuncFormatter(lambda y,p: format(int(y),','))\n",
    ")\n",
    "\n",
    "for i,j in zip(df_YearAvgTrans['OrderYear'],df_YearAvgTrans['AvgPerTrans']):\n",
    "    ax.annotate(format(int(j), ','), xy=(i,j), va='bottom', ha='center')\n",
    "\n",
    "plt.show()\n",
    "#ax.figure.savefig('./img/AveragePerTransPerYear.png', bbox_inches='tight', dpi=150)"
   ]
  },
  {
   "cell_type": "code",
   "execution_count": 38,
   "metadata": {},
   "outputs": [
    {
     "data": {
      "text/plain": [
       "USPS                    273\n",
       "UPS Mail Innovations      5\n",
       "UPS                     170\n",
       "Other                    98\n",
       "FedEx SmartPost           4\n",
       "FedEx                    22\n",
       "DHL                       9\n",
       "AMZN                    200\n",
       "Name: Carrier, dtype: int64"
      ]
     },
     "execution_count": 38,
     "metadata": {},
     "output_type": "execute_result"
    }
   ],
   "source": [
    "# Shipping method\n",
    "\n",
    "df_Carriers = df['Carrier']\n",
    "CarrierVC = df_Carriers.value_counts()\n",
    "CarrierVC = CarrierVC.sort_index(ascending = False)\n",
    "CarrierVC"
   ]
  },
  {
   "cell_type": "code",
   "execution_count": 39,
   "metadata": {},
   "outputs": [
    {
     "data": {
      "image/png": "[encoded data removed]",
      "text/plain": [
       "<Figure size 720x360 with 1 Axes>"
      ]
     },
     "metadata": {
      "needs_background": "light"
     },
     "output_type": "display_data"
    }
   ],
   "source": [
    "# Plot of shipping method\n",
    "\n",
    "fig,ax = plt.subplots(figsize=(10,5))\n",
    "ax.barh(CarrierVC.index, CarrierVC.values, color='steelblue')\n",
    "ax.set_xlabel('Number of Orders')\n",
    "ax.set_ylabel('Carrier')\n",
    "ax.set_title('Shipping Method')\n",
    "\n",
    "for i,j in zip(CarrierVC.values, CarrierVC.index):\n",
    "    ax.annotate(format(int(i), ','), xy=(i,j), va='center', ha='left')\n",
    "    \n",
    "ax.xaxis.set_major_formatter(\n",
    "    ticker.FuncFormatter(lambda x,p: format(int(x),','))\n",
    ")\n",
    "\n",
    "plt.show()\n",
    "#ax.figure.savefig('./img/ShippingMethod.png', bbox_inches='tight', dpi=150)"
   ]
  },
  {
   "cell_type": "code",
   "execution_count": 40,
   "metadata": {},
   "outputs": [
    {
     "data": {
      "text/html": [
       "<div>\n",
       "<style scoped>\n",
       "    .dataframe tbody tr th:only-of-type {\n",
       "        vertical-align: middle;\n",
       "    }\n",
       "\n",
       "    .dataframe tbody tr th {\n",
       "        vertical-align: top;\n",
       "    }\n",
       "\n",
       "    .dataframe thead th {\n",
       "        text-align: right;\n",
       "    }\n",
       "</style>\n",
       "<table border=\"1\" class=\"dataframe\">\n",
       "  <thead>\n",
       "    <tr style=\"text-align: right;\">\n",
       "      <th></th>\n",
       "      <th>Carrier</th>\n",
       "      <th>ItemTotal</th>\n",
       "      <th>NumTrans</th>\n",
       "      <th>AvgPerTrans</th>\n",
       "    </tr>\n",
       "  </thead>\n",
       "  <tbody>\n",
       "    <tr>\n",
       "      <th>7</th>\n",
       "      <td>USPS</td>\n",
       "      <td>6594.03</td>\n",
       "      <td>273</td>\n",
       "      <td>24.15</td>\n",
       "    </tr>\n",
       "    <tr>\n",
       "      <th>6</th>\n",
       "      <td>UPS Mail Innovations</td>\n",
       "      <td>57.62</td>\n",
       "      <td>5</td>\n",
       "      <td>11.52</td>\n",
       "    </tr>\n",
       "    <tr>\n",
       "      <th>5</th>\n",
       "      <td>UPS</td>\n",
       "      <td>10874.11</td>\n",
       "      <td>170</td>\n",
       "      <td>63.97</td>\n",
       "    </tr>\n",
       "    <tr>\n",
       "      <th>4</th>\n",
       "      <td>Other</td>\n",
       "      <td>4113.09</td>\n",
       "      <td>98</td>\n",
       "      <td>41.97</td>\n",
       "    </tr>\n",
       "    <tr>\n",
       "      <th>3</th>\n",
       "      <td>FedEx SmartPost</td>\n",
       "      <td>100.26</td>\n",
       "      <td>4</td>\n",
       "      <td>25.06</td>\n",
       "    </tr>\n",
       "    <tr>\n",
       "      <th>2</th>\n",
       "      <td>FedEx</td>\n",
       "      <td>1948.20</td>\n",
       "      <td>22</td>\n",
       "      <td>88.55</td>\n",
       "    </tr>\n",
       "    <tr>\n",
       "      <th>1</th>\n",
       "      <td>DHL</td>\n",
       "      <td>89.71</td>\n",
       "      <td>9</td>\n",
       "      <td>9.97</td>\n",
       "    </tr>\n",
       "    <tr>\n",
       "      <th>0</th>\n",
       "      <td>AMZN</td>\n",
       "      <td>6580.39</td>\n",
       "      <td>200</td>\n",
       "      <td>32.90</td>\n",
       "    </tr>\n",
       "  </tbody>\n",
       "</table>\n",
       "</div>"
      ],
      "text/plain": [
       "                Carrier  ItemTotal  NumTrans  AvgPerTrans\n",
       "7                  USPS    6594.03       273        24.15\n",
       "6  UPS Mail Innovations      57.62         5        11.52\n",
       "5                   UPS   10874.11       170        63.97\n",
       "4                 Other    4113.09        98        41.97\n",
       "3       FedEx SmartPost     100.26         4        25.06\n",
       "2                 FedEx    1948.20        22        88.55\n",
       "1                   DHL      89.71         9         9.97\n",
       "0                  AMZN    6580.39       200        32.90"
      ]
     },
     "execution_count": 40,
     "metadata": {},
     "output_type": "execute_result"
    }
   ],
   "source": [
    "# Shipping method and avg transaction cost\n",
    "\n",
    "df_CarrierTotal = df[['Carrier', 'ItemTotal']]\n",
    "df_CarrierTotal = df_CarrierTotal.groupby('Carrier', as_index = False)['ItemTotal'].sum()\n",
    "\n",
    "df_CarrierTrans = df[['Carrier', 'ItemTotal']].groupby('Carrier')['ItemTotal'].size()\n",
    "df_CarrierTotal['NumTrans'] = df_CarrierTrans.values\n",
    "\n",
    "df_CarrierTotal['AvgPerTrans'] = df_CarrierTotal['ItemTotal'].div(df_CarrierTotal['NumTrans']).round(2)\n",
    "\n",
    "df_CarrierTotal = df_CarrierTotal.sort_values('Carrier', ascending = False)\n",
    "df_CarrierTotal"
   ]
  },
  {
   "cell_type": "code",
   "execution_count": 41,
   "metadata": {},
   "outputs": [
    {
     "data": {
      "image/png": "[encoded data removed]",
      "text/plain": [
       "<Figure size 720x360 with 1 Axes>"
      ]
     },
     "metadata": {
      "needs_background": "light"
     },
     "output_type": "display_data"
    }
   ],
   "source": [
    "# Plot shipping method and avg transaction cost\n",
    "\n",
    "fig,ax = plt.subplots(figsize=(10,5))\n",
    "ax.barh(df_CarrierTotal['Carrier'], df_CarrierTotal['AvgPerTrans'], color='tomato')\n",
    "ax.set_xlabel('$ Avg Per Transaction')\n",
    "ax.set_ylabel('Carrier')\n",
    "ax.set_title('Shipping Method & Average Price Per Transaction')\n",
    "\n",
    "for i,j in zip(df_CarrierTotal['AvgPerTrans'], df_CarrierTotal['Carrier']):\n",
    "    ax.annotate(format(int(i), ','), xy=(i,j), va='center', ha='left')\n",
    "    \n",
    "ax.xaxis.set_major_formatter(\n",
    "    ticker.FuncFormatter(lambda x,p: format(int(x),','))\n",
    ")\n",
    "\n",
    "plt.show()\n",
    "#ax.figure.savefig('./img/ShippingMethodPrice.png', bbox_inches='tight', dpi=150)"
   ]
  },
  {
   "cell_type": "code",
   "execution_count": null,
   "metadata": {},
   "outputs": [],
   "source": []
  }
 ],
 "metadata": {
  "kernelspec": {
   "display_name": "Python 3",
   "language": "python",
   "name": "python3"
  },
  "language_info": {
   "codemirror_mode": {
    "name": "ipython",
    "version": 3
   },
   "file_extension": ".py",
   "mimetype": "text/x-python",
   "name": "python",
   "nbconvert_exporter": "python",
   "pygments_lexer": "ipython3",
   "version": "3.8.5"
  }
 },
 "nbformat": 4,
 "nbformat_minor": 4
}
